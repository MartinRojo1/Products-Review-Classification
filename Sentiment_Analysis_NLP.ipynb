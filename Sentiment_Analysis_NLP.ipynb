{
 "cells": [
  {
   "cell_type": "code",
   "execution_count": 60,
   "metadata": {},
   "outputs": [],
   "source": [
    "import pandas as pd\n",
    "import numpy as np\n",
    "import warnings\n",
    "import os\n",
    "import nltk\n",
    "import text_normalizer\n",
    "from sklearn.feature_extraction.text import TfidfVectorizer\n",
    "from nltk.tokenize.toktok import ToktokTokenizer\n",
    "from sklearn.linear_model import LogisticRegression\n",
    "import evaluation\n",
    "from sklearn.model_selection import RandomizedSearchCV\n",
    "from sklearn.ensemble import RandomForestClassifier\n",
    "import xgboost\n",
    "from sklearn.svm import SVC\n",
    "from sklearn.neighbors import KNeighborsClassifier\n",
    "from sklearn.naive_bayes import MultinomialNB\n",
    "import lightgbm\n",
    "from gensim.models import Word2Vec\n",
    "warnings.filterwarnings('ignore')\n"
   ]
  },
  {
   "cell_type": "markdown",
   "metadata": {},
   "source": [
    "# Sentiment Analysis: Large Movie Review Dataset\n",
    "\n"
   ]
  },
  {
   "cell_type": "markdown",
   "metadata": {},
   "source": [
    "---\n",
    "## 1. Get the data\n",
    "\n",
    "#### Download the data and process it in order to obtain:\n",
    "\n"
   ]
  },
  {
   "cell_type": "code",
   "execution_count": 61,
   "metadata": {},
   "outputs": [],
   "source": [
    "\n",
    "# Create dataframe\n",
    "df = pd.DataFrame()\n",
    "df_test = pd.DataFrame()\n",
    "\n",
    "# Iterate train and test\n",
    "for p in ['test','train']:\n",
    "\n",
    "# Iterate files\n",
    "    for path,PosOrNeg,elements in os.walk(os.path.join('aclImdb',p)):\n",
    "\n",
    "        # Iterate in Postive or Negative\n",
    "        for i in PosOrNeg:\n",
    "            \n",
    "            # If is Unsupervise\n",
    "            if i == 'unsup':\n",
    "\n",
    "                continue\n",
    "            \n",
    "            # If is Positive or Negative\n",
    "            else:\n",
    "\n",
    "                # Iterate files (Positive or negative)\n",
    "                for _,_,e in os.walk(os.path.join(path,i)):\n",
    "                    \n",
    "                    # Iterate files .text with reviews\n",
    "                    for el in e:\n",
    "\n",
    "                        # Open review\n",
    "                        with open(os.path.join(path,i,el)) as arch:\n",
    "                            \n",
    "                            # Iterate on review\n",
    "                            for k in arch:\n",
    "\n",
    "                                # If is positive add review + 1\n",
    "                                if i == 'pos':\n",
    "\n",
    "                                    if p == 'train':\n",
    "\n",
    "                                        df = df.append([(k,1)],ignore_index=True)\n",
    "                                        \n",
    "                                    else:\n",
    "\n",
    "                                        df_test = df_test.append([(k,1)],ignore_index=True)\n",
    "                                \n",
    "                                # If is positive add review + 0\n",
    "                                else:\n",
    "                                    if p == 'train':\n",
    "\n",
    "                                        df = df.append([(k,0)],ignore_index=True)\n",
    "                \n",
    "                                    else:\n",
    "                                        \n",
    "                                        df_test = df_test.append([(k,0)],ignore_index=True)"
   ]
  },
  {
   "cell_type": "code",
   "execution_count": 62,
   "metadata": {},
   "outputs": [],
   "source": [
    "# New names columns train\n",
    "df.columns = ['Text','Target']\n",
    "\n",
    "# New names columns test\n",
    "df_test.columns = ['Text','Target']"
   ]
  },
  {
   "cell_type": "code",
   "execution_count": 63,
   "metadata": {},
   "outputs": [],
   "source": [
    "# Create csv with train\n",
    "df.to_csv('DataFrameTrain.cvs')\n",
    "\n",
    "# Create csv with test\n",
    "df_test.to_csv('DataFrameTest.cvs')\n"
   ]
  },
  {
   "cell_type": "code",
   "execution_count": 64,
   "metadata": {},
   "outputs": [],
   "source": [
    "# Read train\n",
    "df = pd.read_csv('DataFrameTrain.cvs')\n",
    "\n",
    "# Read test\n",
    "df_test = pd.read_csv('DataFrameTest.cvs')"
   ]
  },
  {
   "cell_type": "code",
   "execution_count": 65,
   "metadata": {},
   "outputs": [],
   "source": [
    "# Test Train Split\n",
    "X_train, y_train, X_test, y_test =  df.Text , df.Target , df_test.Text , df_test.Target"
   ]
  },
  {
   "cell_type": "markdown",
   "metadata": {},
   "source": [
    "### *Don't change anything in this block, just make it run correctly*\n",
    "\n",
    "We are going to check that you have done it right and for that we are going to see if the dimensions match."
   ]
  },
  {
   "cell_type": "code",
   "execution_count": 66,
   "metadata": {},
   "outputs": [
    {
     "name": "stdout",
     "output_type": "stream",
     "text": [
      "Reading Data Success!\n"
     ]
    }
   ],
   "source": [
    "def check_data(X_train, y_train, X_test, y_test):\n",
    "    if len(X_train) == len(y_train) == len(X_test) == len(y_test) == 25000:\n",
    "        print('Reading Data Success!')\n",
    "    else:\n",
    "        raise ValueError('Dimensions do not match!')\n",
    "\n",
    "check_data(X_train, y_train, X_test, y_test)"
   ]
  },
  {
   "cell_type": "markdown",
   "metadata": {},
   "source": [
    "---\n",
    "## 2. Normalize the data\n",
    "\n"
   ]
  },
  {
   "cell_type": "markdown",
   "metadata": {},
   "source": [
    "### *Don't change anything in this block, just make it run correctly*\n",
    "\n"
   ]
  },
  {
   "cell_type": "code",
   "execution_count": 4,
   "metadata": {},
   "outputs": [],
   "source": [
    "# Normalized train\n",
    "X_train = text_normalizer.normalize_corpus(corpus=X_train)\n",
    "\n",
    "# Normalized test\n",
    "X_test = text_normalizer.normalize_corpus(corpus=X_test)"
   ]
  },
  {
   "cell_type": "code",
   "execution_count": 2,
   "metadata": {},
   "outputs": [
    {
     "name": "stdout",
     "output_type": "stream",
     "text": [
      "[1/10] Remove HTML Success!\n",
      "[2/10] Remove Accented Success!\n",
      "[3/10] Expand Contractions Success!\n",
      "[4/10] Lemmatization Success!\n",
      "[5/10] Stemming Success!\n",
      "[6/10] Remove Specials Success!\n",
      "[7/10] Remove Digits Success!\n",
      "[8/10] Remove Stopwords Success!\n",
      "[9/10] Remove New Lines Success!\n",
      "[10/10] Remove Extra Whitespaces Success!\n"
     ]
    }
   ],
   "source": [
    "# Inputs\n",
    "doc_html = \"\"\"\n",
    "<br /><br />But with plague out there and the news being kept a secret,\n",
    "the New Orleans PD starts a dragnet of the city's underworld.\n",
    "\"\"\"\n",
    "doc_accented = \"Héllo, thís is an accented sénténce.\"\n",
    "doc_contractions = \"I can't, because it doesn't work.\"\n",
    "doc_lemma = \"The striped bats are hanging on their feet for best\"\n",
    "doc_stem = \"\"\"\n",
    "Where did he learn to dance like that?\n",
    "His eyes were dancing with humor.\n",
    "She shook her head and danced away.\n",
    "\"\"\"\n",
    "doc_specials = \"hello? there A-Z-R_T(,**), world, welcome to python. this **should? the next line#followed- by@ an#other %million^ %%like $this.\"\n",
    "doc_digits = \"abc123def456ghi789zero0 hello my friend number 10\"\n",
    "doc_stop = \"He is a very good person\"\n",
    "doc_new_lines = \"\"\"we\n",
    "use\n",
    "a\n",
    "lot\n",
    "of\n",
    "lines\"\"\"\n",
    "doc_spaces = \"Hello           my      dear          friend\"\n",
    "\n",
    "# Outputs\n",
    "good_html = \"\"\"\n",
    "But with plague out there and the news being kept a secret,\n",
    "the New Orleans PD starts a dragnet of the city's underworld.\n",
    "\"\"\"\n",
    "good_accented = \"Hello, this is an accented sentence.\"\n",
    "good_contractions = \"I cannot, because it does not work.\"\n",
    "good_lemma = \"the stripe bat be hang on their foot for well\"\n",
    "good_stem = \"where did he learn to danc like that? hi eye were danc with humor. she shook her head and danc away. \"\n",
    "good_specials = \"hello there AZRT world welcome to python this should the next linefollowed by another million like this\"\n",
    "good_digits = \"abcdefghizero hello my friend number \"\n",
    "good_stop = \"good person\"\n",
    "good_new_lines = \"we use a lot of lines\"\n",
    "good_spaces = \"Hello my dear friend\"\n",
    "stop_words = nltk.corpus.stopwords.words('english')\n",
    "\n",
    "def check_normalization():\n",
    "    \n",
    "    if good_html == text_normalizer.remove_html_tags(doc_html):\n",
    "        print('[1/10] Remove HTML Success!')\n",
    "    else:\n",
    "        raise ValueError('[1/10] Remove HTML Fail!')\n",
    "\n",
    "\n",
    "   \n",
    "    if good_accented == text_normalizer.remove_accented_chars(doc_accented):\n",
    "        print('[2/10] Remove Accented Success!')\n",
    "    else:\n",
    "        raise ValueError('[2/10] Remove Accented Fail!')\n",
    "\n",
    "    \n",
    "\n",
    "    if good_contractions == text_normalizer.expand_contractions(doc_contractions):\n",
    "        print('[3/10] Expand Contractions Success!')\n",
    "    else:\n",
    "        raise ValueError('[3/10] Expand Contractions Fail!')\n",
    "        \n",
    "\n",
    "\n",
    "    if good_lemma == text_normalizer.lemmatize_text(doc_lemma):\n",
    "        print('[4/10] Lemmatization Success!')\n",
    "    else:\n",
    "        raise ValueError('[4/10] Lemmatization Fail!')    \n",
    "\n",
    "\n",
    "    \n",
    "    if good_stem == text_normalizer.stem_text(doc_stem):\n",
    "        print('[5/10] Stemming Success!')\n",
    "    else:\n",
    "        raise ValueError('[5/10] Stemming Fail!') \n",
    "\n",
    "\n",
    "\n",
    "    if good_specials == text_normalizer.remove_special_chars(doc_specials):\n",
    "        print('[6/10] Remove Specials Success!')\n",
    "    else:\n",
    "        raise ValueError('[6/10] Remove Specials Fail!')\n",
    "\n",
    "\n",
    "        \n",
    "    if good_digits == text_normalizer.remove_special_chars(doc_digits, remove_digits=True):\n",
    "        print('[7/10] Remove Digits Success!')\n",
    "    else:\n",
    "        raise ValueError('[7/10] Remove Digits Fail!')\n",
    "      \n",
    "\n",
    "\n",
    "    if good_stop == text_normalizer.remove_stopwords(doc_stop, stopwords=stop_words):\n",
    "        print('[8/10] Remove Stopwords Success!')\n",
    "    else:\n",
    "        raise ValueError('[8/10] Remove Stopwords Fail!')\n",
    "\n",
    "\n",
    "    \n",
    "    if good_new_lines == text_normalizer.remove_extra_new_lines(doc_new_lines):\n",
    "        print('[9/10] Remove New Lines Success!')\n",
    "    else:\n",
    "        raise ValueError('[9/10] Remove New Lines Fail!')\n",
    "\n",
    "\n",
    "    \n",
    "    if good_spaces == text_normalizer.remove_extra_whitespace(doc_spaces):\n",
    "        print('[10/10] Remove Extra Whitespaces Success!')\n",
    "    else:\n",
    "        raise ValueError('[10/10] Remove Extra Whitespaces Fail!')\n",
    "    \n",
    "check_normalization()"
   ]
  },
  {
   "cell_type": "markdown",
   "metadata": {},
   "source": [
    "---\n",
    "## 3. Feature Engineering\n",
    "\n",
    "You already have the pr-eprocessed data, now you must vectorize them, because remember that the models only understand numbers. At this stage choose whether you want to vectorize with BoW or with TF-IDF. Later we will train our own embedding but for now we go with a more \"classic\" vectorization."
   ]
  },
  {
   "cell_type": "code",
   "execution_count": 54,
   "metadata": {},
   "outputs": [],
   "source": [
    "# Create vectorizer\n",
    "tfidf_vectorizer = TfidfVectorizer(ngram_range=(1,2))\n",
    "\n",
    "# Vectorizer X_train\n",
    "X_train_values = tfidf_vectorizer.fit_transform(X_train)\n",
    "\n",
    "# Vectorizer X_test\n",
    "X_test_values = tfidf_vectorizer.transform(X_test)\n"
   ]
  },
  {
   "cell_type": "markdown",
   "metadata": {},
   "source": [
    "## 4. Modeling and Performance Evaluation\n",
    "\n"
   ]
  },
  {
   "cell_type": "code",
   "execution_count": 41,
   "metadata": {},
   "outputs": [],
   "source": [
    "# Create model\n",
    "RFCV = RandomForestClassifier(random_state=42)\n",
    "\n",
    "# Hyperparametros\n",
    "hyperparameter_RFCV = {\n",
    "    'bootstrap': [True, False],\n",
    "    'max_depth': [10, 50, 100, None],\n",
    "    'max_features': ['auto', 'sqrt'],\n",
    "    'min_samples_leaf': [1, 2, 4],\n",
    "    'min_samples_split': [2, 5, 10],\n",
    "    'n_estimators': [100, 200]\n",
    "    }\n",
    "    \n",
    "# Search best Hyperpameters\n",
    "model =  RandomizedSearchCV(RFCV,hyperparameter_RFCV,random_state=42,scoring=\"roc_auc\",cv=3,n_iter=10)\n",
    "\n",
    "# Train model\n",
    "model.fit(X_train_values,y_train)\n",
    "\n",
    "# Create predictions\n",
    "predict = model.predict(X_test_values)\n",
    "\n",
    "'''\n",
    "\n",
    "Accuracy: 0.86276\n",
    "Precision: 0.8468\n",
    "Recall: 0.8747210974299645\n",
    "F1 Score: 0.8605341246290801\n",
    "\n",
    "roc_auc = 0.9387935808\n",
    "\n",
    "'''"
   ]
  },
  {
   "cell_type": "code",
   "execution_count": null,
   "metadata": {},
   "outputs": [],
   "source": [
    "# Create model\n",
    "modelLGBM =   lightgbm.LGBMClassifier()\n",
    "\n",
    "# Hyperparameters\n",
    "hyperparameters_LGBM = {'learning_rate' : [0.01, 0.02, 0.03, 0.04, 0.05, 0.08, 0.1, 0.2, 0.3, 0.4],\n",
    "              'n_estimators' : [100, 200, 300, 400, 500, 600, 800, 1000, 1500, 2000],\n",
    "              'num_leaves': list(range(10,20)), \n",
    "              'min_child_samples': list(range(100,300)), \n",
    "              'min_child_weight': [1e-5, 1e-3, 1e-2, 1e-1, 1, 1e1, 1e2, 1e3, 1e4],\n",
    "              'max_depth': [-1, 1, 2, 3, 4, 5, 6, 7], \n",
    "              'reg_alpha': [0, 1e-1, 1, 2, 5, 7, 10, 50, 100],\n",
    "              'reg_lambda': [0, 1e-1, 1, 5, 10, 20, 50, 100]\n",
    "              }\n",
    "\n",
    "# Search best hyperpameters\n",
    "ModelLGBM = RandomizedSearchCV(modelLGBM,hyperparameters_LGBM,random_state=42,scoring=\"roc_auc\",cv=3,n_iter=10)\n",
    "\n",
    "# Train model\n",
    "ModelLGBM.fit(X_train_values,y_train)\n",
    "\n",
    "# Create predictions\n",
    "LGBMpre = ModelLGBM.predict(X_test_values)\n",
    "\n",
    "'''\n",
    "\n",
    "Accuracy: 0.87072\n",
    "Precision: 0.88864\n",
    "Recall: 0.8578931109051591\n",
    "F1 Score: 0.8729959132348317\n",
    "\n",
    "roc_auc = 0.9456461632000001\n",
    "\n",
    "'''\n"
   ]
  },
  {
   "cell_type": "code",
   "execution_count": 38,
   "metadata": {},
   "outputs": [],
   "source": [
    "# Create model\n",
    "modelKN = KNeighborsClassifier()\n",
    "\n",
    "# Hyperparameters\n",
    "hyperparameters_KN = {\n",
    "    'leaf_size' : list(range(1,50)),\n",
    "    'n_neighbors' : list(range(1,30)),\n",
    "    'p' : [1,2] \n",
    "    }\n",
    "\n",
    "# Search best hyperparameters\n",
    "ModelKN = RandomizedSearchCV(modelKN,hyperparameters_KN,random_state=42,scoring=\"roc_auc\",cv=3,n_iter=10)\n",
    "\n",
    "# Train model\n",
    "ModelKN.fit(X_train_values,y_train)\n",
    "\n",
    "# Create predictions\n",
    "KNpre = ModelKN.predict(X_test_values)\n",
    "\n",
    "'''\n",
    "\n",
    "Accuracy: 0.73804\n",
    "Precision: 0.72696\n",
    "Recall: 0.7434345087130819\n",
    "F1 Score: 0.7351049629899284\n",
    "\n",
    "roc_auc = 0.8128498496000001\n",
    "\n",
    "'''"
   ]
  },
  {
   "cell_type": "code",
   "execution_count": 26,
   "metadata": {},
   "outputs": [],
   "source": [
    "# Create model\n",
    "modelMLNB = MultinomialNB()\n",
    "\n",
    "# Hyperparameters\n",
    "hyperparameters_MLNB = {\n",
    "    'alpha' : [0.1 , 0.2 , 0.3 , 0.4 , 0.5 ,0.6 ,0.7 ,0.8 , 0.9]\n",
    "    }\n",
    "\n",
    "# Search best hyperparameters\n",
    "ModelMLNB = RandomizedSearchCV(modelMLNB,hyperparameters_MLNB,random_state=42,scoring=\"roc_auc\",cv=3,n_iter=10)\n",
    "\n",
    "# Train model\n",
    "ModelMLNB.fit(X_train_values,y_train)\n",
    "\n",
    "# Create predictions\n",
    "Mpre = ModelMLNB.predict(X_test_values)\n",
    "\n",
    "'''\n",
    "\n",
    "Accuracy: 0.86084\n",
    "Precision: 0.8316\n",
    "Recall: 0.8832526127963294\n",
    "F1 Score: 0.8566483991923854\n",
    "\n",
    "roc_auc = 0.9371816512\n",
    "\n",
    "'''"
   ]
  },
  {
   "cell_type": "code",
   "execution_count": 19,
   "metadata": {},
   "outputs": [],
   "source": [
    "# Hyperpameters\n",
    "hyperparameter_XGB = {\n",
    "    \"learning_rate\"    : [0.05, 0.10, 0.15, 0.20, 0.25, 0.30 ] ,\n",
    "    \"max_depth\"        : [ 3, 4, 5, 6, 8, 10, 12, 15],\n",
    "    \"min_child_weight\" : [ 1, 3, 5, 7 ],\n",
    "    \"gamma\"            : [ 0.0, 0.1, 0.2 , 0.3, 0.4 ],\n",
    "    \"colsample_bytree\" : [ 0.3, 0.4, 0.5 , 0.7 ]\n",
    "     }\n",
    "\n",
    "# Create model \n",
    "modelX = xgboost.XGBRFClassifier()\n",
    "\n",
    "# Search hyperparameters\n",
    "modeloXG = RandomizedSearchCV(modelX,hyperparameter_XGB,random_state=42,scoring=\"roc_auc\",cv=3,n_iter=10)\n",
    "\n",
    "# Train model\n",
    "modeloXG.fit(X_train_values,y_train)\n",
    "\n",
    "# Create predictions \n",
    "xgboostPredict = modeloXG.predict(X_test_values)\n",
    "\n",
    "'''\n",
    "\n",
    "Accuracy: 0.81424\n",
    "Precision: 0.8376\n",
    "Recall: 0.8002140018343015\n",
    "F1 Score: 0.8184803001876173\n",
    "\n",
    "roc_auc = 0.8989719295999999\n",
    "\n",
    "'''\n"
   ]
  },
  {
   "cell_type": "code",
   "execution_count": 55,
   "metadata": {},
   "outputs": [],
   "source": [
    "# Create model\n",
    "modelLG = LogisticRegression()\n",
    "\n",
    "# Hyperparameters\n",
    "hyperparameters_LG = {\n",
    "    'penalty' : ['l1', 'l2', 'elasticnet', 'none'],\n",
    "    'C' : np.logspace(-4, 4, 20),\n",
    "    'solver' : ['lbfgs','newton-cg','liblinear','sag','saga'],\n",
    "    'max_iter' : [100, 1000,2500, 5000]\n",
    "    }\n",
    "\n",
    "# Search hyperpameters\n",
    "ModelLG = RandomizedSearchCV(modelLG,hyperparameters_LG,random_state=42,scoring=\"roc_auc\",cv=3,n_iter=10)\n",
    "\n",
    "# Train model\n",
    "ModelLG.fit(X_train_values,y_train)\n",
    "\n",
    "# Create predictions\n",
    "LGpre = ModelLG.predict(X_test_values)\n"
   ]
  },
  {
   "cell_type": "markdown",
   "metadata": {},
   "source": [
    "### *Don't change anything in this block, just make it run correctly*\n",
    "\n",
    "Let's check that the `get_performance` function returns the metrics correctly. For that we are going to simulate input/output data of a model."
   ]
  },
  {
   "cell_type": "code",
   "execution_count": 56,
   "metadata": {},
   "outputs": [
    {
     "name": "stdout",
     "output_type": "stream",
     "text": [
      "Model Performance metrics:\n",
      "------------------------------\n",
      "Accuracy: 0.8928\n",
      "Precision: 0.89072\n",
      "Recall: 0.8944408740359897\n",
      "F1 Score: 0.8925765592432259\n",
      "\n",
      "Model Classification report:\n",
      "------------------------------\n",
      "              precision    recall  f1-score   support\n",
      "\n",
      "           0       0.89      0.89      0.89     12552\n",
      "           1       0.89      0.89      0.89     12448\n",
      "\n",
      "    accuracy                           0.89     25000\n",
      "   macro avg       0.89      0.89      0.89     25000\n",
      "weighted avg       0.89      0.89      0.89     25000\n",
      "\n",
      "\n",
      "Prediction Confusion Matrix:\n",
      "------------------------------\n",
      "       0      1\n",
      "0  11186   1366\n",
      "1   1314  11134\n",
      "Success!\n"
     ]
    }
   ],
   "source": [
    "def check_basic_metrics():\n",
    "    accuracy, precision, recall, f1_score = evaluation.get_performance(\n",
    "        predictions=LGpre, # Logistic Regression\n",
    "        y_test=y_test\n",
    "    )\n",
    "    \n",
    "    if (accuracy, precision, recall, f1_score) > (0.6, 0.6, 0.6, 0.6):\n",
    "        print('Success!')\n",
    "    else:\n",
    "        raise ValueError('You must check your get_performance function!')\n",
    "        \n",
    "check_basic_metrics()"
   ]
  },
  {
   "cell_type": "markdown",
   "metadata": {},
   "source": [
    "Let's see if your model at least exceeds an ROC-AUC of 0.93"
   ]
  },
  {
   "cell_type": "code",
   "execution_count": 58,
   "metadata": {},
   "outputs": [
    {
     "data": {
      "image/png": "[encoded data removed]",
      "text/plain": [
       "<Figure size 720x360 with 1 Axes>"
      ]
     },
     "metadata": {
      "needs_background": "light"
     },
     "output_type": "display_data"
    },
    {
     "data": {
      "text/plain": [
       "0.9587053824"
      ]
     },
     "execution_count": 58,
     "metadata": {},
     "output_type": "execute_result"
    }
   ],
   "source": [
    "# Create var with ROC curve\n",
    "roc_auc = evaluation.plot_roc(model=ModelLG,y_test=y_test,features=X_test_values)\n",
    "roc_auc"
   ]
  },
  {
   "cell_type": "code",
   "execution_count": 59,
   "metadata": {},
   "outputs": [
    {
     "name": "stdout",
     "output_type": "stream",
     "text": [
      "Success!\n"
     ]
    }
   ],
   "source": [
    "def check_roc(roc_auc):\n",
    "    if roc_auc > 0.90:\n",
    "        print('Success!')\n",
    "    else:\n",
    "        raise ValueError('Your model is not good enough!')\n",
    "        \n",
    "check_roc(roc_auc)"
   ]
  },
  {
   "cell_type": "markdown",
   "metadata": {},
   "source": [
    "---\n",
    "## 5. Feature Engineering with Custom Word Embedding\n",
    "\n"
   ]
  },
  {
   "cell_type": "code",
   "execution_count": 6,
   "metadata": {},
   "outputs": [],
   "source": [
    "# Create tokenizer\n",
    "tokenize = ToktokTokenizer()\n",
    "\n",
    "# Create list empty\n",
    "X_train_tok = []\n",
    "\n",
    "# Iterate in X_train\n",
    "for i in X_train:\n",
    "\n",
    "    # Append text tokenized\n",
    "    X_train_tok.append(tokenize.tokenize(i))\n",
    "\n",
    "# Create list empty\n",
    "X_test_tok = []\n",
    "\n",
    "# Iterate in X_train\n",
    "for i in X_test:\n",
    "\n",
    "    # Append text tokenized\n",
    "    X_test_tok.append(tokenize.tokenize(i))"
   ]
  },
  {
   "cell_type": "code",
   "execution_count": 7,
   "metadata": {},
   "outputs": [],
   "source": [
    "# Create model\n",
    "model_w2v =  Word2Vec(sentences=X_train_tok, window=5, min_count=1, workers=4,vector_size=100)"
   ]
  },
  {
   "cell_type": "markdown",
   "metadata": {},
   "source": [
    "### Generate averaged word vector features\n",
    "\n"
   ]
  },
  {
   "cell_type": "code",
   "execution_count": 8,
   "metadata": {},
   "outputs": [],
   "source": [
    "# Define fuction\n",
    "def vectorizer(corpus, model):\n",
    "    \n",
    "    '''\n",
    "\n",
    "    Corpus : X(train or test) tokenized \n",
    "    model : Word2vec\n",
    "\n",
    "    '''\n",
    "    \n",
    "    # Create list empty\n",
    "    corpus_vectors = []\n",
    "    \n",
    "    # Iterate corpus\n",
    "    for review in corpus:\n",
    "\n",
    "        # Variable with Add\n",
    "        add = np.zeros(100)\n",
    "\n",
    "        # Variable than count words \n",
    "        count = 0\n",
    "\n",
    "        # Iterate review\n",
    "        for word in review:\n",
    "            \n",
    "            # In the case than word exist\n",
    "            try:\n",
    "\n",
    "                # Add vectors\n",
    "                add += model.wv[word]\n",
    "                \n",
    "                # count words\n",
    "                count += 1\n",
    "            \n",
    "            # In the case than word no exist\n",
    "            except:\n",
    "\n",
    "                pass\n",
    "\n",
    "        # Append Average\n",
    "        corpus_vectors.append(add/count)\n",
    "    \n",
    "    return corpus_vectors"
   ]
  },
  {
   "cell_type": "code",
   "execution_count": 9,
   "metadata": {},
   "outputs": [],
   "source": [
    "# Vectorizer Test\n",
    "X_test_vec = vectorizer(X_test_tok,model=model_w2v)\n",
    "\n",
    "# Vectorizer Train\n",
    "X_train_vec = vectorizer(X_train_tok,model=model_w2v)"
   ]
  },
  {
   "cell_type": "markdown",
   "metadata": {},
   "source": [
    "### *Don't change anything in this block, just make it run correctly*\n",
    "\n"
   ]
  },
  {
   "cell_type": "code",
   "execution_count": 34,
   "metadata": {},
   "outputs": [
    {
     "name": "stdout",
     "output_type": "stream",
     "text": [
      "Success! Your embedding tells me that \"women\" and \"man\" are similar with a score of 0.7320266962051392\n"
     ]
    }
   ],
   "source": [
    "def check_embedding(model):\n",
    "    vector = model.wv['computer']\n",
    "    if len(vector) == 100:\n",
    "        print(\n",
    "            'Success! Your embedding tells me that \"women\" and \"man\" '\n",
    "            f'are similar with a score of {model.wv.similarity(\"woman\", \"man\")}'\n",
    "        )\n",
    "    else:\n",
    "        raise ValueError('You should check your embedding vector size!')\n",
    "        \n",
    "check_embedding(model_w2v)"
   ]
  },
  {
   "cell_type": "code",
   "execution_count": 12,
   "metadata": {},
   "outputs": [
    {
     "name": "stdout",
     "output_type": "stream",
     "text": [
      "Success!\n"
     ]
    }
   ],
   "source": [
    "def check_vectorizer(model):\n",
    "    \n",
    "    vector1 = model.wv['personal']\n",
    "    vector2 = model.wv['computer']\n",
    "    avg = vectorizer([['personal', 'computer']], model)[0]\n",
    "\n",
    "    if np.allclose((vector1 + vector2) / 2, avg):\n",
    "        print('Success!')\n",
    "    else:\n",
    "        raise ValueError('You should check your vectorizer!')\n",
    "        \n",
    "check_vectorizer(model_w2v)"
   ]
  },
  {
   "cell_type": "markdown",
   "metadata": {},
   "source": [
    "### Modeling\n",
    "\n"
   ]
  },
  {
   "cell_type": "code",
   "execution_count": 50,
   "metadata": {},
   "outputs": [],
   "source": [
    "# Create model Suport Vector Machine\n",
    "SVCmodel = SVC(probability=True,C=50)\n",
    "\n",
    "# Train model\n",
    "SVCmodel.fit(X_train_vec,y_train)\n",
    "\n",
    "# Predict\n",
    "predictSVC =  SVCmodel.predict(X_test_vec)\n"
   ]
  },
  {
   "cell_type": "code",
   "execution_count": 51,
   "metadata": {},
   "outputs": [
    {
     "name": "stdout",
     "output_type": "stream",
     "text": [
      "Model Performance metrics:\n",
      "------------------------------\n",
      "Accuracy: 0.82092\n",
      "Precision: 0.81984\n",
      "Recall: 0.8216146877254871\n",
      "F1 Score: 0.8207263844952548\n",
      "\n",
      "Model Classification report:\n",
      "------------------------------\n",
      "              precision    recall  f1-score   support\n",
      "\n",
      "           0       0.82      0.82      0.82     12527\n",
      "           1       0.82      0.82      0.82     12473\n",
      "\n",
      "    accuracy                           0.82     25000\n",
      "   macro avg       0.82      0.82      0.82     25000\n",
      "weighted avg       0.82      0.82      0.82     25000\n",
      "\n",
      "\n",
      "Prediction Confusion Matrix:\n",
      "------------------------------\n",
      "       0      1\n",
      "0  10275   2252\n",
      "1   2225  10248\n"
     ]
    },
    {
     "data": {
      "text/plain": [
       "(0.82092, 0.81984, 0.8216146877254871, 0.8207263844952548)"
      ]
     },
     "execution_count": 51,
     "metadata": {},
     "output_type": "execute_result"
    }
   ],
   "source": [
    "# I do the evaluations\n",
    "evaluation.get_performance(predictSVC,y_test)"
   ]
  },
  {
   "cell_type": "markdown",
   "metadata": {},
   "source": [
    "### *Don't change anything in this block, just make it run correctly*"
   ]
  },
  {
   "cell_type": "code",
   "execution_count": 52,
   "metadata": {},
   "outputs": [
    {
     "data": {
      "image/png": "[encoded data removed]",
      "text/plain": [
       "<Figure size 720x360 with 1 Axes>"
      ]
     },
     "metadata": {
      "needs_background": "light"
     },
     "output_type": "display_data"
    },
    {
     "data": {
      "text/plain": [
       "0.90071872"
      ]
     },
     "execution_count": 52,
     "metadata": {},
     "output_type": "execute_result"
    }
   ],
   "source": [
    "# Create variable with roc curve \n",
    "roc_auc = roc_auc = evaluation.plot_roc(model=SVCmodel,y_test=y_test,features=X_test_vec)"
   ]
  },
  {
   "cell_type": "code",
   "execution_count": 53,
   "metadata": {},
   "outputs": [
    {
     "name": "stdout",
     "output_type": "stream",
     "text": [
      "Success!\n"
     ]
    }
   ],
   "source": [
    "check_roc(roc_auc)"
   ]
  }
 ],
 "metadata": {
  "anaconda-cloud": {},
  "kernelspec": {
   "display_name": "Python 3 (ipykernel)",
   "language": "python",
   "name": "python3"
  },
  "language_info": {
   "codemirror_mode": {
    "name": "ipython",
    "version": 3
   },
   "file_extension": ".py",
   "mimetype": "text/x-python",
   "name": "python",
   "nbconvert_exporter": "python",
   "pygments_lexer": "ipython3",
   "version": "3.10.4"
  },
  "vscode": {
   "interpreter": {
    "hash": "916dbcbb3f70747c44a77c7bcd40155683ae19c65e1c03b4aa3499c5328201f1"
   }
  }
 },
 "nbformat": 4,
 "nbformat_minor": 1
}
